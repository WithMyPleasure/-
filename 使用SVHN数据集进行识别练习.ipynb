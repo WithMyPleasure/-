{
 "cells": [
  {
   "cell_type": "markdown",
   "id": "18e6b347",
   "metadata": {},
   "source": [
    "1.配置环境/导包\n",
    "--"
   ]
  },
  {
   "cell_type": "code",
   "execution_count": 22,
   "id": "ad8145e9",
   "metadata": {},
   "outputs": [],
   "source": [
    "#配置和部署相关环境\n",
    "import os\n",
    "import torch\n",
    "os.environ['KMP_DUPLICATE_LIB_OK']='True' #防止jupyter内核挂掉\n",
    "torch.backends.cudnn.benchmark=True #用于加速GPU运算的代码"
   ]
  },
  {
   "cell_type": "code",
   "execution_count": 23,
   "id": "3e95fb97",
   "metadata": {},
   "outputs": [],
   "source": [
    "#导入pytorch一个完整流程所需的可能全部的包（能想到的都导入进来了）\n",
    "import torchvision\n",
    "from torch import nn, optim\n",
    "from torch.nn import functional as F\n",
    "from torchvision import transforms as T\n",
    "from torchvision import models as m\n",
    "from torch.utils.data import DataLoader"
   ]
  },
  {
   "cell_type": "code",
   "execution_count": 24,
   "id": "b50a390b",
   "metadata": {},
   "outputs": [],
   "source": [
    "#导入作为辅助工具的各类包\n",
    "import matplotlib.pyplot as plt #可视化\n",
    "from time import time #计算时间、记录时间\n",
    "import datetime\n",
    "import random #控制随机性\n",
    "import numpy as np\n",
    "import pandas as pd\n",
    "import gc #garbage collector 垃圾回收"
   ]
  },
  {
   "cell_type": "code",
   "execution_count": 25,
   "id": "94a0a478",
   "metadata": {},
   "outputs": [],
   "source": [
    "#设置全局的随机数种子\n",
    "torch.manual_seed(1412) #torch\n",
    "random.seed(1412) #random\n",
    "np.random.seed(1412) #numpy.random"
   ]
  },
  {
   "cell_type": "code",
   "execution_count": 26,
   "id": "d74e33ef",
   "metadata": {},
   "outputs": [
    {
     "data": {
      "text/plain": [
       "True"
      ]
     },
     "execution_count": 26,
     "metadata": {},
     "output_type": "execute_result"
    }
   ],
   "source": [
    "#使用GPU进行工作\n",
    "torch.cuda.is_available()"
   ]
  },
  {
   "cell_type": "code",
   "execution_count": 27,
   "id": "65993b8c",
   "metadata": {},
   "outputs": [
    {
     "data": {
      "text/plain": [
       "device(type='cuda')"
      ]
     },
     "execution_count": 27,
     "metadata": {},
     "output_type": "execute_result"
    }
   ],
   "source": [
    "#GPU系统会令device = \"gpu\", cpu系统会令device = \"cpu\"\n",
    "device = torch.device('cuda' if torch.cuda.is_available() else 'cpu')\n",
    "device"
   ]
  },
  {
   "cell_type": "markdown",
   "id": "c8e9c1f0",
   "metadata": {},
   "source": [
    "2.导入数据和数据增强的过程\n",
    "--"
   ]
  },
  {
   "cell_type": "code",
   "execution_count": 32,
   "id": "b1530fb5",
   "metadata": {},
   "outputs": [],
   "source": [
    "#导入保存在D盘的SVHN数据集（训练集和测试集）\n",
    "train = torchvision.datasets.SVHN(root ='D:\\dataset\\SVHN'\n",
    "                                 ,split =\"train\"\n",
    "                                 ,download = False\n",
    "                                 ,transform = T.ToTensor()\n",
    "                                 )"
   ]
  },
  {
   "cell_type": "code",
   "execution_count": 31,
   "id": "6963daa3",
   "metadata": {},
   "outputs": [],
   "source": [
    "test = torchvision.datasets.SVHN(root ='D:\\dataset\\SVHN'\n",
    "                                 ,split =\"test\"\n",
    "                                 ,download = False\n",
    "                                 ,transform = T.ToTensor())"
   ]
  },
  {
   "cell_type": "code",
   "execution_count": 37,
   "id": "6255b01b",
   "metadata": {},
   "outputs": [
    {
     "data": {
      "text/plain": [
       "Dataset SVHN\n",
       "    Number of datapoints: 73257\n",
       "    Root location: D:\\dataset\\SVHN\n",
       "    Split: train\n",
       "    StandardTransform\n",
       "Transform: ToTensor()"
      ]
     },
     "execution_count": 37,
     "metadata": {},
     "output_type": "execute_result"
    }
   ],
   "source": [
    "train #看看数据集情况"
   ]
  },
  {
   "cell_type": "code",
   "execution_count": 38,
   "id": "12f0453c",
   "metadata": {},
   "outputs": [
    {
     "data": {
      "text/plain": [
       "Dataset SVHN\n",
       "    Number of datapoints: 26032\n",
       "    Root location: D:\\dataset\\SVHN\n",
       "    Split: test\n",
       "    StandardTransform\n",
       "Transform: ToTensor()"
      ]
     },
     "execution_count": 38,
     "metadata": {},
     "output_type": "execute_result"
    }
   ],
   "source": [
    "test"
   ]
  },
  {
   "cell_type": "code",
   "execution_count": 40,
   "id": "48ee331a",
   "metadata": {},
   "outputs": [
    {
     "data": {
      "text/plain": [
       "array([0, 1, 2, 3, 4, 5, 6, 7, 8, 9], dtype=int64)"
      ]
     },
     "execution_count": 40,
     "metadata": {},
     "output_type": "execute_result"
    }
   ],
   "source": [
    "# 可以很容易看出来这是一个十分类问题\n",
    "np.unique(train.labels)"
   ]
  },
  {
   "cell_type": "code",
   "execution_count": 47,
   "id": "58b90834",
   "metadata": {},
   "outputs": [],
   "source": [
    "#让每个数据集随机显示5张图像\n",
    "def plotsample(data): #只能够接受tensor格式的图像\n",
    "    fig, axs = plt.subplots(1,5,figsize=(10,10)) #建立子图\n",
    "    for i in range(5):\n",
    "        num = random.randint(0,len(data)-1) #首先选取随机数，随机选取五次\n",
    "        #抽取数据中对应的图像对象，make_grid函数可将任意格式的图像的通道数升为3，而不改变图像原始的数据\n",
    "        #而展示图像用的imshow函数最常见的输入格式也是3通道\n",
    "        npimg = torchvision.utils.make_grid(data[num][0]).numpy()\n",
    "        nplabel = data[num][1] #提取标签\n",
    "        #将图像由(3, weight, height)转化为(weight, height, 3)，并放入imshow函数中读取\n",
    "        axs[i].imshow(np.transpose(npimg, (1, 2, 0))) \n",
    "        axs[i].set_title(nplabel) #给每个子图加上标签\n",
    "        axs[i].axis(\"off\") #消除每个子图的坐标轴"
   ]
  },
  {
   "cell_type": "code",
   "execution_count": 48,
   "id": "a953b4a1",
   "metadata": {},
   "outputs": [
    {
     "data": {
      "image/png": "[encoded data removed]",
      "text/plain": [
       "<Figure size 720x720 with 5 Axes>"
      ]
     },
     "metadata": {
      "needs_background": "light"
     },
     "output_type": "display_data"
    }
   ],
   "source": [
    "plotsample(train) #分辨率很低，数据集有一定的难度"
   ]
  },
  {
   "cell_type": "code",
   "execution_count": 49,
   "id": "8fe3a69f",
   "metadata": {},
   "outputs": [
    {
     "data": {
      "image/png": "[encoded data removed]",
      "text/plain": [
       "<Figure size 720x720 with 5 Axes>"
      ]
     },
     "metadata": {
      "needs_background": "light"
     },
     "output_type": "display_data"
    }
   ],
   "source": [
    "plotsample(test)"
   ]
  },
  {
   "cell_type": "code",
   "execution_count": 52,
   "id": "18d341d6",
   "metadata": {},
   "outputs": [],
   "source": [
    "# 数据预处理和数据增强\n",
    "trainT = T.Compose([T.RandomCrop(28)\n",
    "                   ,T.RandomRotation(degrees = [-30,30])\n",
    "                   ,T.ToTensor()\n",
    "                   ,T.Normalize(mean = [0.485,0.456,0.406]\n",
    "                                ,std = [0.229,0.224,0.225])])"
   ]
  },
  {
   "cell_type": "code",
   "execution_count": 53,
   "id": "0c4d4850",
   "metadata": {},
   "outputs": [],
   "source": [
    "testT = T.Compose([T.CenterCrop(28)\n",
    "                  ,T.ToTensor()\n",
    "                  ,T.Normalize(mean = [0.485,0.456,0.406]\n",
    "                                ,std = [0.229,0.224,0.225])])"
   ]
  },
  {
   "cell_type": "code",
   "execution_count": 54,
   "id": "8d5334af",
   "metadata": {},
   "outputs": [],
   "source": [
    "train = torchvision.datasets.SVHN(root ='D:\\dataset\\SVHN'\n",
    "                                 ,split =\"train\"\n",
    "                                 ,download = False\n",
    "                                 ,transform = T.ToTensor()\n",
    "                                 )"
   ]
  },
  {
   "cell_type": "code",
   "execution_count": 55,
   "id": "999c24ad",
   "metadata": {},
   "outputs": [],
   "source": [
    "test = torchvision.datasets.SVHN(root ='D:\\dataset\\SVHN'\n",
    "                                 ,split =\"test\"\n",
    "                                 ,download = False\n",
    "                                 ,transform = T.ToTensor())"
   ]
  },
  {
   "cell_type": "code",
   "execution_count": 58,
   "id": "2399dec5",
   "metadata": {},
   "outputs": [
    {
     "data": {
      "image/png": "[encoded data removed]",
      "text/plain": [
       "<Figure size 720x720 with 5 Axes>"
      ]
     },
     "metadata": {
      "needs_background": "light"
     },
     "output_type": "display_data"
    }
   ],
   "source": [
    "# 查看增强后的数据\n",
    "plotsample(train)"
   ]
  },
  {
   "cell_type": "markdown",
   "id": "7f763e35",
   "metadata": {},
   "source": [
    "3.基于经典架构构建自己的网络架构\n",
    "--"
   ]
  },
  {
   "cell_type": "code",
   "execution_count": 61,
   "id": "800054bd",
   "metadata": {},
   "outputs": [],
   "source": [
    "#基于小型数据集，首先考虑使用各个经典架构中比较浅、但学习能力又比较强的架构\n",
    "torch.manual_seed(1412)\n",
    "resnet18_ = m.resnet18()\n",
    "vgg16_ = m.vgg16()"
   ]
  },
  {
   "cell_type": "code",
   "execution_count": 62,
   "id": "3574127f",
   "metadata": {},
   "outputs": [
    {
     "data": {
      "text/plain": [
       "ResNet(\n",
       "  (conv1): Conv2d(3, 64, kernel_size=(7, 7), stride=(2, 2), padding=(3, 3), bias=False)\n",
       "  (bn1): BatchNorm2d(64, eps=1e-05, momentum=0.1, affine=True, track_running_stats=True)\n",
       "  (relu): ReLU(inplace=True)\n",
       "  (maxpool): MaxPool2d(kernel_size=3, stride=2, padding=1, dilation=1, ceil_mode=False)\n",
       "  (layer1): Sequential(\n",
       "    (0): BasicBlock(\n",
       "      (conv1): Conv2d(64, 64, kernel_size=(3, 3), stride=(1, 1), padding=(1, 1), bias=False)\n",
       "      (bn1): BatchNorm2d(64, eps=1e-05, momentum=0.1, affine=True, track_running_stats=True)\n",
       "      (relu): ReLU(inplace=True)\n",
       "      (conv2): Conv2d(64, 64, kernel_size=(3, 3), stride=(1, 1), padding=(1, 1), bias=False)\n",
       "      (bn2): BatchNorm2d(64, eps=1e-05, momentum=0.1, affine=True, track_running_stats=True)\n",
       "    )\n",
       "    (1): BasicBlock(\n",
       "      (conv1): Conv2d(64, 64, kernel_size=(3, 3), stride=(1, 1), padding=(1, 1), bias=False)\n",
       "      (bn1): BatchNorm2d(64, eps=1e-05, momentum=0.1, affine=True, track_running_stats=True)\n",
       "      (relu): ReLU(inplace=True)\n",
       "      (conv2): Conv2d(64, 64, kernel_size=(3, 3), stride=(1, 1), padding=(1, 1), bias=False)\n",
       "      (bn2): BatchNorm2d(64, eps=1e-05, momentum=0.1, affine=True, track_running_stats=True)\n",
       "    )\n",
       "  )\n",
       "  (layer2): Sequential(\n",
       "    (0): BasicBlock(\n",
       "      (conv1): Conv2d(64, 128, kernel_size=(3, 3), stride=(2, 2), padding=(1, 1), bias=False)\n",
       "      (bn1): BatchNorm2d(128, eps=1e-05, momentum=0.1, affine=True, track_running_stats=True)\n",
       "      (relu): ReLU(inplace=True)\n",
       "      (conv2): Conv2d(128, 128, kernel_size=(3, 3), stride=(1, 1), padding=(1, 1), bias=False)\n",
       "      (bn2): BatchNorm2d(128, eps=1e-05, momentum=0.1, affine=True, track_running_stats=True)\n",
       "      (downsample): Sequential(\n",
       "        (0): Conv2d(64, 128, kernel_size=(1, 1), stride=(2, 2), bias=False)\n",
       "        (1): BatchNorm2d(128, eps=1e-05, momentum=0.1, affine=True, track_running_stats=True)\n",
       "      )\n",
       "    )\n",
       "    (1): BasicBlock(\n",
       "      (conv1): Conv2d(128, 128, kernel_size=(3, 3), stride=(1, 1), padding=(1, 1), bias=False)\n",
       "      (bn1): BatchNorm2d(128, eps=1e-05, momentum=0.1, affine=True, track_running_stats=True)\n",
       "      (relu): ReLU(inplace=True)\n",
       "      (conv2): Conv2d(128, 128, kernel_size=(3, 3), stride=(1, 1), padding=(1, 1), bias=False)\n",
       "      (bn2): BatchNorm2d(128, eps=1e-05, momentum=0.1, affine=True, track_running_stats=True)\n",
       "    )\n",
       "  )\n",
       "  (layer3): Sequential(\n",
       "    (0): BasicBlock(\n",
       "      (conv1): Conv2d(128, 256, kernel_size=(3, 3), stride=(2, 2), padding=(1, 1), bias=False)\n",
       "      (bn1): BatchNorm2d(256, eps=1e-05, momentum=0.1, affine=True, track_running_stats=True)\n",
       "      (relu): ReLU(inplace=True)\n",
       "      (conv2): Conv2d(256, 256, kernel_size=(3, 3), stride=(1, 1), padding=(1, 1), bias=False)\n",
       "      (bn2): BatchNorm2d(256, eps=1e-05, momentum=0.1, affine=True, track_running_stats=True)\n",
       "      (downsample): Sequential(\n",
       "        (0): Conv2d(128, 256, kernel_size=(1, 1), stride=(2, 2), bias=False)\n",
       "        (1): BatchNorm2d(256, eps=1e-05, momentum=0.1, affine=True, track_running_stats=True)\n",
       "      )\n",
       "    )\n",
       "    (1): BasicBlock(\n",
       "      (conv1): Conv2d(256, 256, kernel_size=(3, 3), stride=(1, 1), padding=(1, 1), bias=False)\n",
       "      (bn1): BatchNorm2d(256, eps=1e-05, momentum=0.1, affine=True, track_running_stats=True)\n",
       "      (relu): ReLU(inplace=True)\n",
       "      (conv2): Conv2d(256, 256, kernel_size=(3, 3), stride=(1, 1), padding=(1, 1), bias=False)\n",
       "      (bn2): BatchNorm2d(256, eps=1e-05, momentum=0.1, affine=True, track_running_stats=True)\n",
       "    )\n",
       "  )\n",
       "  (layer4): Sequential(\n",
       "    (0): BasicBlock(\n",
       "      (conv1): Conv2d(256, 512, kernel_size=(3, 3), stride=(2, 2), padding=(1, 1), bias=False)\n",
       "      (bn1): BatchNorm2d(512, eps=1e-05, momentum=0.1, affine=True, track_running_stats=True)\n",
       "      (relu): ReLU(inplace=True)\n",
       "      (conv2): Conv2d(512, 512, kernel_size=(3, 3), stride=(1, 1), padding=(1, 1), bias=False)\n",
       "      (bn2): BatchNorm2d(512, eps=1e-05, momentum=0.1, affine=True, track_running_stats=True)\n",
       "      (downsample): Sequential(\n",
       "        (0): Conv2d(256, 512, kernel_size=(1, 1), stride=(2, 2), bias=False)\n",
       "        (1): BatchNorm2d(512, eps=1e-05, momentum=0.1, affine=True, track_running_stats=True)\n",
       "      )\n",
       "    )\n",
       "    (1): BasicBlock(\n",
       "      (conv1): Conv2d(512, 512, kernel_size=(3, 3), stride=(1, 1), padding=(1, 1), bias=False)\n",
       "      (bn1): BatchNorm2d(512, eps=1e-05, momentum=0.1, affine=True, track_running_stats=True)\n",
       "      (relu): ReLU(inplace=True)\n",
       "      (conv2): Conv2d(512, 512, kernel_size=(3, 3), stride=(1, 1), padding=(1, 1), bias=False)\n",
       "      (bn2): BatchNorm2d(512, eps=1e-05, momentum=0.1, affine=True, track_running_stats=True)\n",
       "    )\n",
       "  )\n",
       "  (avgpool): AdaptiveAvgPool2d(output_size=(1, 1))\n",
       "  (fc): Linear(in_features=512, out_features=1000, bias=True)\n",
       ")"
      ]
     },
     "execution_count": 62,
     "metadata": {},
     "output_type": "execute_result"
    }
   ],
   "source": [
    "#查看网络架构，从中选择我们希望使用的部分\n",
    "resnet18_"
   ]
  },
  {
   "cell_type": "code",
   "execution_count": 64,
   "id": "75160daa",
   "metadata": {},
   "outputs": [],
   "source": [
    "class MyResNet(nn.Module):\n",
    "    def __init__(self):\n",
    "        super().__init__()\n",
    "        \n",
    "        self.block1 = nn.Sequential(nn.Conv2d(3,64,kernel_size=3\n",
    "                                              ,stride=1,padding=1,bias=False)\n",
    "                                   ,resnet18_.bn1\n",
    "                                   ,resnet18_.relu) #删除池化层\n",
    "        \n",
    "        #后续的架构直接从经典架构中选\n",
    "        #对尺寸很小的数据集而言，我们的深度本来就不深，因此可以试着在特征图数量上有所增加（增加宽度）\n",
    "        self.block2 = resnet18_.layer2 #2个残差单元\n",
    "        self.block3 = resnet18_.layer3 #2个残差单元\n",
    "        #自适应平均池化+线性层，此处都与残差网络一致\n",
    "        self.avgpool = resnet18_.avgpool\n",
    "        #确保输出的类别数量正确\n",
    "        self.fc = nn.Linear(in_features=256, out_features=10, bias=True)\n",
    "    \n",
    "    def forward(self,x):\n",
    "        x = self.block1(x)\n",
    "        x = self.block2(x)\n",
    "        x = self.block3(x)\n",
    "        x = self.avgpool(x)\n",
    "        x = x.view(x.shape[0],256)\n",
    "        x = self.fc(x)\n",
    "        return x"
   ]
  },
  {
   "cell_type": "code",
   "execution_count": 66,
   "id": "d1a7cc71",
   "metadata": {},
   "outputs": [],
   "source": [
    "class MyVgg(nn.Module):\n",
    "    def __init__(self):\n",
    "        super().__init__()\n",
    "        \n",
    "        #在9层之后增加一个单独的卷积层，再加入池化层，构成(卷积x2+池化) + (卷积x3+池化)的类似AlexNet的结构\n",
    "        self.features = nn.Sequential(*vgg16_.features[0:9] #星号用于解码\n",
    "                                     ,nn.Conv2d(128, 128, kernel_size=3, stride=1, padding=1)\n",
    "                                     ,nn.ReLU(inplace=True)\n",
    "                                     ,nn.MaxPool2d(2,2, padding=0, dilation=1, ceil_mode=False))\n",
    "        #进入线性层时输入通道数发生变化，因此线性层需要重写\n",
    "        #输出层也需要重写\n",
    "        self.avgpool = vgg16_.avgpool\n",
    "        self.fc = nn.Sequential(nn.Linear(7*7*128, out_features=4096,bias=True)\n",
    "                                ,*vgg16_.classifier[1:6]\n",
    "                                ,nn.Linear(in_features=4096, out_features=10,bias=True))\n",
    "    \n",
    "    def forward(self,x):\n",
    "        x = self.features(x)\n",
    "        x = self.avgpool(x)\n",
    "        x = x.view(x.shape[0],7*7*128)\n",
    "        x = self.fc(x)\n",
    "        return x"
   ]
  },
  {
   "cell_type": "code",
   "execution_count": 68,
   "id": "a8fd964c",
   "metadata": {
    "scrolled": true
   },
   "outputs": [],
   "source": [
    "from torchinfo import summary"
   ]
  },
  {
   "cell_type": "code",
   "execution_count": 69,
   "id": "ebd136df",
   "metadata": {
    "scrolled": true
   },
   "outputs": [
    {
     "data": {
      "text/plain": [
       "==========================================================================================\n",
       "Layer (type:depth-idx)                   Output Shape              Param #\n",
       "==========================================================================================\n",
       "MyResNet                                 [10, 10]                  --\n",
       "├─Sequential: 1-1                        [10, 64, 28, 28]          --\n",
       "│    └─Conv2d: 2-1                       [10, 64, 28, 28]          1,728\n",
       "│    └─BatchNorm2d: 2-2                  [10, 64, 28, 28]          128\n",
       "│    └─ReLU: 2-3                         [10, 64, 28, 28]          --\n",
       "├─Sequential: 1-2                        [10, 128, 14, 14]         --\n",
       "│    └─BasicBlock: 2-4                   [10, 128, 14, 14]         230,144\n",
       "│    └─BasicBlock: 2-5                   [10, 128, 14, 14]         295,424\n",
       "├─Sequential: 1-3                        [10, 256, 7, 7]           --\n",
       "│    └─BasicBlock: 2-6                   [10, 256, 7, 7]           919,040\n",
       "│    └─BasicBlock: 2-7                   [10, 256, 7, 7]           1,180,672\n",
       "├─AdaptiveAvgPool2d: 1-4                 [10, 256, 1, 1]           --\n",
       "├─Linear: 1-5                            [10, 10]                  2,570\n",
       "==========================================================================================\n",
       "Total params: 2,629,706\n",
       "Trainable params: 2,629,706\n",
       "Non-trainable params: 0\n",
       "Total mult-adds (G): 2.07\n",
       "==========================================================================================\n",
       "Input size (MB): 0.09\n",
       "Forward/backward pass size (MB): 38.13\n",
       "Params size (MB): 10.52\n",
       "Estimated Total Size (MB): 48.75\n",
       "=========================================================================================="
      ]
     },
     "execution_count": 69,
     "metadata": {},
     "output_type": "execute_result"
    }
   ],
   "source": [
    "summary(MyResNet(),(10,3,28,28),depth=2,device=\"cpu\")"
   ]
  },
  {
   "cell_type": "code",
   "execution_count": 71,
   "id": "55f5453e",
   "metadata": {},
   "outputs": [
    {
     "data": {
      "text/plain": [
       "==========================================================================================\n",
       "Layer (type:depth-idx)                   Output Shape              Param #\n",
       "==========================================================================================\n",
       "MyVgg                                    [10, 10]                  --\n",
       "├─Sequential: 1-1                        [10, 128, 7, 7]           --\n",
       "│    └─Conv2d: 2-1                       [10, 64, 28, 28]          1,792\n",
       "│    └─ReLU: 2-2                         [10, 64, 28, 28]          --\n",
       "│    └─Conv2d: 2-3                       [10, 64, 28, 28]          36,928\n",
       "│    └─ReLU: 2-4                         [10, 64, 28, 28]          --\n",
       "│    └─MaxPool2d: 2-5                    [10, 64, 14, 14]          --\n",
       "│    └─Conv2d: 2-6                       [10, 128, 14, 14]         73,856\n",
       "│    └─ReLU: 2-7                         [10, 128, 14, 14]         --\n",
       "│    └─Conv2d: 2-8                       [10, 128, 14, 14]         147,584\n",
       "│    └─ReLU: 2-9                         [10, 128, 14, 14]         --\n",
       "│    └─Conv2d: 2-10                      [10, 128, 14, 14]         147,584\n",
       "│    └─ReLU: 2-11                        [10, 128, 14, 14]         --\n",
       "│    └─MaxPool2d: 2-12                   [10, 128, 7, 7]           --\n",
       "├─AdaptiveAvgPool2d: 1-2                 [10, 128, 7, 7]           --\n",
       "├─Sequential: 1-3                        [10, 10]                  --\n",
       "│    └─Linear: 2-13                      [10, 4096]                25,694,208\n",
       "│    └─ReLU: 2-14                        [10, 4096]                --\n",
       "│    └─Dropout: 2-15                     [10, 4096]                --\n",
       "│    └─Linear: 2-16                      [10, 4096]                16,781,312\n",
       "│    └─ReLU: 2-17                        [10, 4096]                --\n",
       "│    └─Dropout: 2-18                     [10, 4096]                --\n",
       "│    └─Linear: 2-19                      [10, 10]                  40,970\n",
       "==========================================================================================\n",
       "Total params: 42,924,234\n",
       "Trainable params: 42,924,234\n",
       "Non-trainable params: 0\n",
       "Total mult-adds (G): 1.45\n",
       "==========================================================================================\n",
       "Input size (MB): 0.09\n",
       "Forward/backward pass size (MB): 14.71\n",
       "Params size (MB): 171.70\n",
       "Estimated Total Size (MB): 186.50\n",
       "=========================================================================================="
      ]
     },
     "execution_count": 71,
     "metadata": {},
     "output_type": "execute_result"
    }
   ],
   "source": [
    "summary(MyVgg(),(10,3,28,28),depth=2,device=\"cpu\")"
   ]
  },
  {
   "cell_type": "code",
   "execution_count": 72,
   "id": "2d83adb3",
   "metadata": {},
   "outputs": [
    {
     "data": {
      "text/plain": [
       "tensor([[ 0.0324, -0.0175,  0.0459],\n",
       "        [ 0.0728, -0.0392,  0.0903],\n",
       "        [-0.0266, -0.0177, -0.0227]], grad_fn=<SelectBackward0>)"
      ]
     },
     "execution_count": 72,
     "metadata": {},
     "output_type": "execute_result"
    }
   ],
   "source": [
    "[*MyResNet().block2[0].parameters()][0][0][0]"
   ]
  },
  {
   "cell_type": "code",
   "execution_count": 73,
   "id": "1257d622",
   "metadata": {},
   "outputs": [
    {
     "data": {
      "text/plain": [
       "tensor([[ 0.0324, -0.0175,  0.0459],\n",
       "        [ 0.0728, -0.0392,  0.0903],\n",
       "        [-0.0266, -0.0177, -0.0227]], grad_fn=<SelectBackward0>)"
      ]
     },
     "execution_count": 73,
     "metadata": {},
     "output_type": "execute_result"
    }
   ],
   "source": [
    "[*resnet18_.layer2[0].conv1.parameters()][0][0][0]"
   ]
  },
  {
   "cell_type": "code",
   "execution_count": 75,
   "id": "31b33b7f",
   "metadata": {},
   "outputs": [
    {
     "data": {
      "text/plain": [
       "[Parameter containing:\n",
       " tensor([[-0.0429, -0.0230, -0.0052,  ...,  0.0229,  0.0624,  0.0123],\n",
       "         [ 0.0374,  0.0305, -0.0507,  ..., -0.0078,  0.0021,  0.0418],\n",
       "         [-0.0071, -0.0486, -0.0362,  ..., -0.0543,  0.0083, -0.0440],\n",
       "         ...,\n",
       "         [-0.0503,  0.0252, -0.0286,  ...,  0.0542, -0.0136,  0.0468],\n",
       "         [ 0.0578,  0.0262, -0.0110,  ..., -0.0442, -0.0436,  0.0028],\n",
       "         [ 0.0244,  0.0292,  0.0102,  ...,  0.0236,  0.0615, -0.0255]],\n",
       "        requires_grad=True),\n",
       " Parameter containing:\n",
       " tensor([ 0.0501, -0.0285, -0.0333,  0.0280,  0.0232, -0.0408,  0.0043,  0.0058,\n",
       "          0.0399,  0.0305], requires_grad=True)]"
      ]
     },
     "execution_count": 75,
     "metadata": {},
     "output_type": "execute_result"
    }
   ],
   "source": [
    "[*resnet18_.fc.parameters()]\n",
    "[*MyResNet().fc.parameters()]"
   ]
  },
  {
   "cell_type": "markdown",
   "id": "5461f6f2",
   "metadata": {},
   "source": [
    "4.提前停止\n",
    "--"
   ]
  },
  {
   "cell_type": "code",
   "execution_count": 77,
   "id": "aee30125",
   "metadata": {},
   "outputs": [],
   "source": [
    "class EarlyStopping():\n",
    "    def __init__(self, patience = 5, tol = 0.0005): #惯例地定义我们所需要的一切变量/属性\\\n",
    "        #当连续patience次迭代时，这一轮迭代的损失与历史最低损失之间的差值小于阈值时\n",
    "        #就触发提前停止\n",
    "        \n",
    "        self.patience = patience\n",
    "        self.tol = tol #tolerance，累积5次都低于tol才会触发停止\n",
    "        self.counter = 0 #计数，计算现在已经累积了counter次\n",
    "        self.lowest_loss = None\n",
    "        self.early_stop = False #True - 提前停止，False - 不要提前停止\n",
    "    \n",
    "    def __call__(self,val_loss):\n",
    "        if self.lowest_loss == None: #这是第一轮迭代\n",
    "            self.lowest_loss = val_loss\n",
    "        elif self.lowest_loss - val_loss > self.tol:\n",
    "            self.lowest_loss = val_loss\n",
    "            self.counter = 0\n",
    "        elif self.lowest_loss - val_loss < self.tol:\n",
    "            self.counter += 1\n",
    "            print(\"\\t NOTICE: Early stopping counter {} of {}\".format(self.counter,self.patience))\n",
    "            if self.counter >= self.patience:\n",
    "                print('\\t NOTICE: Early Stopping Actived')\n",
    "                self.early_stop = True\n",
    "        return self.early_stop\n",
    "        #这一轮迭代的损失与历史最低损失之间的差 - 阈值"
   ]
  },
  {
   "cell_type": "markdown",
   "id": "2b92284d",
   "metadata": {},
   "source": [
    "5.训练函数\n",
    "--"
   ]
  },
  {
   "cell_type": "code",
   "execution_count": 78,
   "id": "e7819043",
   "metadata": {},
   "outputs": [],
   "source": [
    "sigma = torch.ones([3,3]) + np.random.normal(size=(3,3))"
   ]
  },
  {
   "cell_type": "code",
   "execution_count": 79,
   "id": "93d505cb",
   "metadata": {},
   "outputs": [
    {
     "data": {
      "text/plain": [
       "tensor([[ 1.3365,  1.5069,  0.9017],\n",
       "        [ 0.2944,  2.1113,  0.2333],\n",
       "        [ 2.0792, -1.1104,  0.3480]], dtype=torch.float64)"
      ]
     },
     "execution_count": 79,
     "metadata": {},
     "output_type": "execute_result"
    }
   ],
   "source": [
    "sigma #zhat/sigma值最高的那一列所对应的类别就是这个样本的预测类别"
   ]
  },
  {
   "cell_type": "code",
   "execution_count": 81,
   "id": "ad8b36e3",
   "metadata": {},
   "outputs": [
    {
     "data": {
      "text/plain": [
       "tensor(0.6667)"
      ]
     },
     "execution_count": 81,
     "metadata": {},
     "output_type": "execute_result"
    }
   ],
   "source": [
    "yhat = torch.max(sigma,1)[1]\n",
    "y = torch.tensor([1,1,2])\n",
    "(yhat == y).sum()/3"
   ]
  },
  {
   "cell_type": "code",
   "execution_count": 82,
   "id": "5069cd7b",
   "metadata": {},
   "outputs": [],
   "source": [
    "a = [\"apple\",\"banana\",\"orange\"]"
   ]
  },
  {
   "cell_type": "code",
   "execution_count": 83,
   "id": "3b037482",
   "metadata": {},
   "outputs": [],
   "source": [
    "def IterOnce(net,criterion,opt,x,y):\n",
    "    \"\"\"\n",
    "    对模型进行一次迭代的函数\n",
    "    \n",
    "    net: 实例化后的架构\n",
    "    criterion: 损失函数\n",
    "    opt: 优化算法\n",
    "    x: 这一个batch中所有的样本\n",
    "    y: 这一个batch中所有样本的真实标签\n",
    "    \"\"\"\n",
    "    sigma = net.forward(x)\n",
    "    loss = criterion(sigma,y)\n",
    "    loss.backward()\n",
    "    opt.step()\n",
    "    opt.zero_grad(set_to_none=True) #比起设置梯度为0，让梯度为None会更节约内存\n",
    "    yhat = torch.max(sigma,1)[1]\n",
    "    correct = torch.sum(yhat == y)\n",
    "    return correct,loss"
   ]
  },
  {
   "cell_type": "code",
   "execution_count": 84,
   "id": "2403b04b",
   "metadata": {},
   "outputs": [],
   "source": [
    "def TestOnce(net,criterion,x,y):\n",
    "    \"\"\"\n",
    "    对一组数据进行测试并输出测试结果的函数\n",
    "    \n",
    "    net: 经过训练后的架构\n",
    "    criterion：损失函数\n",
    "    x：要测试的数据的所有样本\n",
    "    y：要测试的数据的真实标签\n",
    "    \"\"\"\n",
    "    #对测试，一定要阻止计算图追踪\n",
    "    #这样可以节省很多内存，加速运算\n",
    "    with torch.no_grad(): \n",
    "        sigma = net.forward(x)\n",
    "        loss = criterion(sigma,y)\n",
    "        yhat = torch.max(sigma,1)[1]\n",
    "        correct = torch.sum(yhat == y)\n",
    "    return correct,loss"
   ]
  },
  {
   "cell_type": "code",
   "execution_count": 97,
   "id": "d0a8f2a4",
   "metadata": {},
   "outputs": [],
   "source": [
    "def fit_test(net,batchdata,testdata,criterion,opt,epochs,tol,modelname,PATH):\n",
    "    \"\"\"\n",
    "    对模型进行训练，并在每个epoch后输出训练集和测试集上的准确率/损失\n",
    "    以实现对模型的监控\n",
    "    实现模型的保存\n",
    "    \n",
    "    参数说明：\n",
    "    net: 实例化后的网络\n",
    "    batchdata：使用Dataloader分割后的训练数据\n",
    "    testdata：使用Dataloader分割后的测试数据\n",
    "    criterion：所使用的损失函数\n",
    "    opt：所使用的优化算法\n",
    "    epochs：一共要使用完整数据集epochs次\n",
    "    tol：提前停止时测试集上loss下降的阈值，连续5次loss下降不超过tol就会触发提前停止\n",
    "    modelname：现在正在运行的模型名称，用于保存权重时作为文件名\n",
    "    PATH：将权重文件保存在path目录下\n",
    "    \n",
    "    \"\"\"\n",
    "    \n",
    "    SamplePerEpoch = batchdata.dataset.__len__() #整个epoch里有多少个样本\n",
    "    allsamples = SamplePerEpoch*epochs\n",
    "    trainedsamples = 0\n",
    "    trainlosslist = []\n",
    "    testlosslist = []\n",
    "    early_stopping = EarlyStopping(tol=tol)\n",
    "    highestacc = None\n",
    "    \n",
    "    for epoch in range(1,epochs+1):\n",
    "        net.train()\n",
    "        correct_train = 0\n",
    "        loss_train = 0\n",
    "        for batch_idx, (x, y) in enumerate(batchdata):\n",
    "            #non_blocking 非阻塞 = True\n",
    "            x = x.to(device,non_blocking=True)\n",
    "            y = y.to(device,non_blocking=True).view(x.shape[0])\n",
    "            correct, loss = IterOnce(net,criterion,opt,x,y)\n",
    "            \n",
    "            #计算样本总量、总的correct、loss\n",
    "            trainedsamples += x.shape[0]\n",
    "            loss_train += loss\n",
    "            correct_train += correct\n",
    "            \n",
    "            if (batch_idx+1) % 125 == 0:\n",
    "                #现在进行到了哪个epoch\n",
    "                #现在训练到了多少个样本\n",
    "                #总共要训练多少个样本\n",
    "                #现在的训练的样本占总共需要训练的样本的百分比\n",
    "                print('Epoch{}:[{}/{}({:.0f}%)]'.format(epoch\n",
    "                                                       ,trainedsamples\n",
    "                                                       ,allsamples\n",
    "                                                       ,100*trainedsamples/allsamples))\n",
    "            \n",
    "        TrainAccThisEpoch = float(correct_train*100)/SamplePerEpoch\n",
    "        TrainLossThisEpoch = float(loss_train*100)/SamplePerEpoch #平均每个样本上的损失\n",
    "        trainlosslist.append(TrainLossThisEpoch)\n",
    "        \n",
    "        #清理GPU内存\n",
    "        #清理掉一个epoch循环下面不再需要的中间变量\n",
    "        del x,y,correct,loss,correct_train,loss_train #删除数据与变量\n",
    "        gc.collect() #清除数据与变量相关的缓存\n",
    "        torch.cuda.empty_cache() #缓存分配器分配出去的内存给释放掉\n",
    "    \n",
    "        #每次训练完一个epoch，就在测试集上验证一下模型现在的效果\n",
    "        net.eval()\n",
    "        loss_test = 0\n",
    "        correct_test = 0\n",
    "        loss_test = 0\n",
    "        TestSample = testdata.dataset.__len__()\n",
    "\n",
    "        for x,y in testdata:\n",
    "            x = x.to(device, non_blocking=True)\n",
    "            y = y.to(device,non_blocking=True).view(x.shape[0])\n",
    "            correct, loss = TestOnce(net,criterion,x,y)\n",
    "            loss_test += loss\n",
    "            correct_test += correct\n",
    "\n",
    "        TestAccThisEpoch = float(correct_test * 100)/TestSample\n",
    "        TestLossThisEpoch = float(loss_test * 100)/TestSample\n",
    "        testlosslist.append(TestLossThisEpoch)\n",
    "        \n",
    "        #清理GPU内存\n",
    "        del x,y,correct,loss,correct_test,loss_test\n",
    "        gc.collect()\n",
    "        torch.cuda.empty_cache()\n",
    "        \n",
    "        #对每一个epoch，打印训练和测试的结果\n",
    "        #训练集上的损失，测试集上的损失，训练集上的准确率，测试集上的准确率\n",
    "        print(\"\\t Train Loss:{:.6f}, Test Loss:{:.6f}, Train Acc:{:.3f}%, Test Acc:{:.3f}%\".format(TrainLossThisEpoch\n",
    "                                                                                                  ,TestLossThisEpoch\n",
    "                                                                                                  ,TrainAccThisEpoch\n",
    "                                                                                                  ,TestAccThisEpoch))\n",
    "        \n",
    "        #如果测试集准确率出现新高/测试集loss出现新低，那我会保存现在的这一组权重\n",
    "        if highestacc == None: #首次进行测试\n",
    "            highestacc = TestAccThisEpoch\n",
    "        if highestacc < TestAccThisEpoch:\n",
    "            highestacc = TestAccThisEpoch\n",
    "            torch.save(net.state_dict(),os.path.join(PATH,modelname+\".pt\"))\n",
    "            print(\"\\t Weight Saved\")\n",
    "        \n",
    "        #提前停止\n",
    "        early_stop = early_stopping(TestLossThisEpoch)\n",
    "        if early_stop == \"True\":\n",
    "            break\n",
    "            \n",
    "    print(\"Complete\")\n",
    "    return trainlosslist, testlosslist"
   ]
  },
  {
   "cell_type": "code",
   "execution_count": 98,
   "id": "287bb1af",
   "metadata": {
    "scrolled": true
   },
   "outputs": [],
   "source": [
    "# 一些参数 \n",
    "bs = 128   # batchsize\n",
    "lr = 0.001  #  learning rate\n",
    "alpha = 0.99\n",
    "gamma = 0\n",
    "wd = 0 # weight_decay"
   ]
  },
  {
   "cell_type": "code",
   "execution_count": 99,
   "id": "d9836ee1",
   "metadata": {},
   "outputs": [],
   "source": [
    "batchdata = DataLoader(train,batch_size=bs,shuffle=True\n",
    "                       ,drop_last=False,num_workers = 4)\n",
    "testdata = DataLoader(test,batch_size=bs,shuffle=False\n",
    "                      ,drop_last=False,num_workers = 4)"
   ]
  },
  {
   "cell_type": "code",
   "execution_count": 102,
   "id": "886b9558",
   "metadata": {},
   "outputs": [],
   "source": [
    "def full_procedure(net,epochs,bs,modelname, PATH, lr=0.001,alpha=0.99,gamma=0,wd=0,tol=10**(-5)):\n",
    "    \n",
    "    torch.cuda.manual_seed(1412)\n",
    "    torch.cuda.manual_seed_all(1412)\n",
    "    torch.manual_seed(1412)\n",
    "    \n",
    "    #分割数据\n",
    "    batchdata = DataLoader(train,batch_size=bs,shuffle=True\n",
    "                       ,drop_last=False,pin_memory=True)\n",
    "    testdata = DataLoader(test,batch_size=bs,shuffle=False\n",
    "                      ,drop_last=False,pin_memory=True)\n",
    "    \n",
    "    #损失函数，优化算法\n",
    "    criterion = nn.CrossEntropyLoss(reduction=\"sum\") #进行损失函数计算时，最后输出结果的计算模式\n",
    "    opt = optim.RMSprop(net.parameters(),lr=lr\n",
    "                        ,alpha=alpha,momentum=gamma,weight_decay=wd)\n",
    "    \n",
    "    #训练与测试\n",
    "    trainloss, testloss = fit_test(net,batchdata,testdata,criterion,opt,epochs,tol,modelname,PATH)\n",
    "    \n",
    "    return trainloss, testloss"
   ]
  },
  {
   "cell_type": "code",
   "execution_count": 101,
   "id": "27a742a5",
   "metadata": {},
   "outputs": [],
   "source": [
    "#绘图函数\n",
    "def plotloss(trainloss, testloss):\n",
    "    plt.figure(figsize=(10, 7))\n",
    "    plt.plot(trainloss, color=\"red\", label=\"Trainloss\")\n",
    "    plt.plot(testloss, color=\"orange\", label=\"Testloss\")\n",
    "    plt.xlabel('Epochs')\n",
    "    plt.ylabel('Loss')\n",
    "    plt.legend()\n",
    "    plt.show()"
   ]
  },
  {
   "cell_type": "markdown",
   "id": "521f9a85",
   "metadata": {},
   "source": [
    "6.模型选择\n",
    "--"
   ]
  },
  {
   "cell_type": "code",
   "execution_count": 110,
   "id": "ec51899d",
   "metadata": {},
   "outputs": [],
   "source": [
    "# 我们构建了两个架构，MyResNet和MyVgg"
   ]
  },
  {
   "cell_type": "code",
   "execution_count": 111,
   "id": "37c93cdf",
   "metadata": {},
   "outputs": [
    {
     "name": "stdout",
     "output_type": "stream",
     "text": [
      "\n",
      "\n",
      "ResNet\n",
      "==========================================================================================\n",
      "Layer (type:depth-idx)                   Output Shape              Param #\n",
      "==========================================================================================\n",
      "MyResNet                                 [10, 10]                  --\n",
      "├─Sequential: 1-1                        [10, 64, 28, 28]          --\n",
      "│    └─Conv2d: 2-1                       [10, 64, 28, 28]          1,728\n",
      "│    └─BatchNorm2d: 2-2                  [10, 64, 28, 28]          128\n",
      "│    └─ReLU: 2-3                         [10, 64, 28, 28]          --\n",
      "├─Sequential: 1-2                        [10, 128, 14, 14]         --\n",
      "│    └─BasicBlock: 2-4                   [10, 128, 14, 14]         230,144\n",
      "│    └─BasicBlock: 2-5                   [10, 128, 14, 14]         295,424\n",
      "├─Sequential: 1-3                        [10, 256, 7, 7]           --\n",
      "│    └─BasicBlock: 2-6                   [10, 256, 7, 7]           919,040\n",
      "│    └─BasicBlock: 2-7                   [10, 256, 7, 7]           1,180,672\n",
      "├─AdaptiveAvgPool2d: 1-4                 [10, 256, 1, 1]           --\n",
      "├─Linear: 1-5                            [10, 10]                  2,570\n",
      "==========================================================================================\n",
      "Total params: 2,629,706\n",
      "Trainable params: 2,629,706\n",
      "Non-trainable params: 0\n",
      "Total mult-adds (G): 2.07\n",
      "==========================================================================================\n",
      "Input size (MB): 0.09\n",
      "Forward/backward pass size (MB): 38.13\n",
      "Params size (MB): 10.52\n",
      "Estimated Total Size (MB): 48.75\n",
      "==========================================================================================\n",
      "\n",
      "\n",
      "\n",
      "\n",
      "VGG\n",
      "==========================================================================================\n",
      "Layer (type:depth-idx)                   Output Shape              Param #\n",
      "==========================================================================================\n",
      "MyVgg                                    [10, 10]                  --\n",
      "├─Sequential: 1-1                        [10, 128, 7, 7]           --\n",
      "│    └─Conv2d: 2-1                       [10, 64, 28, 28]          1,792\n",
      "│    └─ReLU: 2-2                         [10, 64, 28, 28]          --\n",
      "│    └─Conv2d: 2-3                       [10, 64, 28, 28]          36,928\n",
      "│    └─ReLU: 2-4                         [10, 64, 28, 28]          --\n",
      "│    └─MaxPool2d: 2-5                    [10, 64, 14, 14]          --\n",
      "│    └─Conv2d: 2-6                       [10, 128, 14, 14]         73,856\n",
      "│    └─ReLU: 2-7                         [10, 128, 14, 14]         --\n",
      "│    └─Conv2d: 2-8                       [10, 128, 14, 14]         147,584\n",
      "│    └─ReLU: 2-9                         [10, 128, 14, 14]         --\n",
      "│    └─Conv2d: 2-10                      [10, 128, 14, 14]         147,584\n",
      "│    └─ReLU: 2-11                        [10, 128, 14, 14]         --\n",
      "│    └─MaxPool2d: 2-12                   [10, 128, 7, 7]           --\n",
      "├─AdaptiveAvgPool2d: 1-2                 [10, 128, 7, 7]           --\n",
      "├─Sequential: 1-3                        [10, 10]                  --\n",
      "│    └─Linear: 2-13                      [10, 4096]                25,694,208\n",
      "│    └─ReLU: 2-14                        [10, 4096]                --\n",
      "│    └─Dropout: 2-15                     [10, 4096]                --\n",
      "│    └─Linear: 2-16                      [10, 4096]                16,781,312\n",
      "│    └─ReLU: 2-17                        [10, 4096]                --\n",
      "│    └─Dropout: 2-18                     [10, 4096]                --\n",
      "│    └─Linear: 2-19                      [10, 10]                  40,970\n",
      "==========================================================================================\n",
      "Total params: 42,924,234\n",
      "Trainable params: 42,924,234\n",
      "Non-trainable params: 0\n",
      "Total mult-adds (G): 1.45\n",
      "==========================================================================================\n",
      "Input size (MB): 0.09\n",
      "Forward/backward pass size (MB): 14.71\n",
      "Params size (MB): 171.70\n",
      "Estimated Total Size (MB): 186.50\n",
      "==========================================================================================\n",
      "\n",
      "\n"
     ]
    }
   ],
   "source": [
    "from torchinfo import summary\n",
    "for name,i in[(\"ResNet\",MyResNet()),(\"VGG\",MyVgg())]:\n",
    "    print(\"\\n\")\n",
    "    print(name)\n",
    "    print(summary(i,input_size=(10,3,28,28),depth=2,device=\"cpu\"))\n",
    "    print(\"\\n\")"
   ]
  },
  {
   "cell_type": "code",
   "execution_count": 112,
   "id": "f608076c",
   "metadata": {},
   "outputs": [],
   "source": [
    "#在每一个架构上，分别运行3个epochs，运行5次"
   ]
  },
  {
   "cell_type": "code",
   "execution_count": 113,
   "id": "2b002e0f",
   "metadata": {},
   "outputs": [
    {
     "name": "stdout",
     "output_type": "stream",
     "text": [
      "Epoch1:[32000/219771(15%)]\n",
      "Epoch1:[64000/219771(29%)]\n",
      "\t Train Loss:110.085760, Test Loss:33.313878, Train Acc:62.967%, Test Acc:90.608%\n",
      "Epoch2:[105257/219771(48%)]\n",
      "Epoch2:[137257/219771(62%)]\n",
      "\t Train Loss:27.755315, Test Loss:31.033778, Train Acc:91.750%, Test Acc:90.857%\n",
      "\t Weight Saved\n",
      "Epoch3:[178514/219771(81%)]\n",
      "Epoch3:[210514/219771(96%)]\n",
      "\t Train Loss:21.908983, Test Loss:27.437990, Train Acc:93.627%, Test Acc:91.699%\n",
      "\t Weight Saved\n",
      "Complete\n",
      "Epoch1:[32000/219771(15%)]\n",
      "Epoch1:[64000/219771(29%)]\n",
      "\t Train Loss:106.803295, Test Loss:35.704361, Train Acc:64.260%, Test Acc:89.267%\n",
      "Epoch2:[105257/219771(48%)]\n",
      "Epoch2:[137257/219771(62%)]\n",
      "\t Train Loss:28.006815, Test Loss:33.722543, Train Acc:91.602%, Test Acc:89.839%\n",
      "\t Weight Saved\n",
      "Epoch3:[178514/219771(81%)]\n",
      "Epoch3:[210514/219771(96%)]\n",
      "\t Train Loss:22.200814, Test Loss:27.873355, Train Acc:93.550%, Test Acc:91.902%\n",
      "\t Weight Saved\n",
      "Complete\n",
      "Epoch1:[32000/219771(15%)]\n",
      "Epoch1:[64000/219771(29%)]\n",
      "\t Train Loss:107.919271, Test Loss:34.263294, Train Acc:63.947%, Test Acc:89.759%\n",
      "Epoch2:[105257/219771(48%)]\n",
      "Epoch2:[137257/219771(62%)]\n",
      "\t Train Loss:27.960089, Test Loss:30.228997, Train Acc:91.653%, Test Acc:91.188%\n",
      "\t Weight Saved\n",
      "Epoch3:[178514/219771(81%)]\n",
      "Epoch3:[210514/219771(96%)]\n",
      "\t Train Loss:22.099311, Test Loss:26.142315, Train Acc:93.536%, Test Acc:92.271%\n",
      "\t Weight Saved\n",
      "Complete\n",
      "Epoch1:[32000/219771(15%)]\n",
      "Epoch1:[64000/219771(29%)]\n",
      "\t Train Loss:107.322488, Test Loss:33.725919, Train Acc:64.218%, Test Acc:89.997%\n",
      "Epoch2:[105257/219771(48%)]\n",
      "Epoch2:[137257/219771(62%)]\n",
      "\t Train Loss:27.845783, Test Loss:33.310805, Train Acc:91.683%, Test Acc:90.043%\n",
      "\t Weight Saved\n",
      "Epoch3:[178514/219771(81%)]\n",
      "Epoch3:[210514/219771(96%)]\n",
      "\t Train Loss:22.035464, Test Loss:27.672799, Train Acc:93.568%, Test Acc:91.848%\n",
      "\t Weight Saved\n",
      "Complete\n",
      "Epoch1:[32000/219771(15%)]\n",
      "Epoch1:[64000/219771(29%)]\n",
      "\t Train Loss:106.756221, Test Loss:32.388896, Train Acc:64.249%, Test Acc:90.450%\n",
      "Epoch2:[105257/219771(48%)]\n",
      "Epoch2:[137257/219771(62%)]\n",
      "\t Train Loss:27.904079, Test Loss:31.504542, Train Acc:91.669%, Test Acc:90.542%\n",
      "\t Weight Saved\n",
      "Epoch3:[178514/219771(81%)]\n",
      "Epoch3:[210514/219771(96%)]\n",
      "\t Train Loss:22.126153, Test Loss:25.077712, Train Acc:93.565%, Test Acc:92.628%\n",
      "\t Weight Saved\n",
      "Complete\n"
     ]
    }
   ],
   "source": [
    "#建立目录用于存储模型选择结果\n",
    "PATH = r\"D:\\deeplearning\\modelselect\"\n",
    "\n",
    "#使用函数full_procedure中的默认参数，在模型选择时加入时间计算\n",
    "#基于现有显存，batch_size被设置为256\n",
    "\n",
    "\n",
    "#MyResNet\n",
    "avgtime = [] #用来存放每次循环之后获得的训练时间\n",
    "for i in range(5): #进行5次训练\n",
    "    #设置随机数种子\n",
    "    torch.manual_seed(1412)\n",
    "    \n",
    "    #实例化\n",
    "    resnet18_ = m.resnet18()\n",
    "    net = MyResNet().to(device,non_blocking=True)\n",
    "    \n",
    "    #训练\n",
    "    start = time() #计算训练时间\n",
    "    trainloss, testloss = full_procedure(net,epochs=3, bs=256 \n",
    "                                         ,modelname=\"model_seletion_resnet\"\n",
    "                                         ,PATH = PATH)\n",
    "    avgtime.append(time()-start)"
   ]
  },
  {
   "cell_type": "code",
   "execution_count": 114,
   "id": "184100e3",
   "metadata": {},
   "outputs": [
    {
     "name": "stdout",
     "output_type": "stream",
     "text": [
      "336.70050940513613\n"
     ]
    }
   ],
   "source": [
    "#打印出我们的平均时间\n",
    "print(np.mean(avgtime))"
   ]
  },
  {
   "cell_type": "code",
   "execution_count": 121,
   "id": "69ef3bc1",
   "metadata": {},
   "outputs": [
    {
     "name": "stdout",
     "output_type": "stream",
     "text": [
      "Epoch1:[32000/219771(15%)]\n",
      "Epoch1:[64000/219771(29%)]\n",
      "\t Train Loss:3020.976780, Test Loss:215.712104, Train Acc:18.185%, Test Acc:23.886%\n",
      "Epoch2:[105257/219771(48%)]\n",
      "Epoch2:[137257/219771(62%)]\n",
      "\t Train Loss:185.778069, Test Loss:117.773029, Train Acc:35.594%, Test Acc:63.199%\n",
      "\t Weight Saved\n",
      "Epoch3:[178514/219771(81%)]\n",
      "Epoch3:[210514/219771(96%)]\n",
      "\t Train Loss:105.479224, Test Loss:73.128529, Train Acc:66.063%, Test Acc:78.546%\n",
      "\t Weight Saved\n",
      "Complete\n",
      "Epoch1:[32000/219771(15%)]\n",
      "Epoch1:[64000/219771(29%)]\n",
      "\t Train Loss:3021.373411, Test Loss:213.559120, Train Acc:18.101%, Test Acc:27.197%\n",
      "Epoch2:[105257/219771(48%)]\n",
      "Epoch2:[137257/219771(62%)]\n",
      "\t Train Loss:181.818011, Test Loss:112.185080, Train Acc:36.932%, Test Acc:66.276%\n",
      "\t Weight Saved\n",
      "Epoch3:[178514/219771(81%)]\n",
      "Epoch3:[210514/219771(96%)]\n",
      "\t Train Loss:107.116856, Test Loss:76.603901, Train Acc:65.994%, Test Acc:77.282%\n",
      "\t Weight Saved\n",
      "Complete\n",
      "Epoch1:[32000/219771(15%)]\n",
      "Epoch1:[64000/219771(29%)]\n",
      "\t Train Loss:3020.431413, Test Loss:211.744065, Train Acc:18.155%, Test Acc:24.639%\n",
      "Epoch2:[105257/219771(48%)]\n",
      "Epoch2:[137257/219771(62%)]\n",
      "\t Train Loss:180.901457, Test Loss:117.513983, Train Acc:37.349%, Test Acc:64.090%\n",
      "\t Weight Saved\n",
      "Epoch3:[178514/219771(81%)]\n",
      "Epoch3:[210514/219771(96%)]\n",
      "\t Train Loss:102.291112, Test Loss:91.949255, Train Acc:66.941%, Test Acc:72.526%\n",
      "\t Weight Saved\n",
      "Complete\n",
      "Epoch1:[32000/219771(15%)]\n",
      "Epoch1:[64000/219771(29%)]\n",
      "\t Train Loss:3020.851850, Test Loss:215.329863, Train Acc:18.329%, Test Acc:24.028%\n",
      "Epoch2:[105257/219771(48%)]\n",
      "Epoch2:[137257/219771(62%)]\n",
      "\t Train Loss:180.183000, Test Loss:126.209540, Train Acc:37.456%, Test Acc:58.563%\n",
      "\t Weight Saved\n",
      "Epoch3:[178514/219771(81%)]\n",
      "Epoch3:[210514/219771(96%)]\n",
      "\t Train Loss:101.244611, Test Loss:77.471103, Train Acc:67.559%, Test Acc:79.033%\n",
      "\t Weight Saved\n",
      "Complete\n",
      "Epoch1:[32000/219771(15%)]\n",
      "Epoch1:[64000/219771(29%)]\n",
      "\t Train Loss:3021.291071, Test Loss:211.407191, Train Acc:18.135%, Test Acc:23.844%\n",
      "Epoch2:[105257/219771(48%)]\n",
      "Epoch2:[137257/219771(62%)]\n",
      "\t Train Loss:187.730975, Test Loss:135.149239, Train Acc:35.298%, Test Acc:57.783%\n",
      "\t Weight Saved\n",
      "Epoch3:[178514/219771(81%)]\n",
      "Epoch3:[210514/219771(96%)]\n",
      "\t Train Loss:103.309411, Test Loss:73.845863, Train Acc:66.624%, Test Acc:79.122%\n",
      "\t Weight Saved\n",
      "Complete\n"
     ]
    }
   ],
   "source": [
    "#MyVGG\n",
    "avgtime = []\n",
    "for i in range(5):\n",
    "    torch.manual_seed(1412)\n",
    "    vgg16_ = m.vgg16_bn()\n",
    "    net = MyVgg().to(device,non_blocking=True)\n",
    "    start = time() #计算训练时间\n",
    "    #此时使用的是full_procedure的默认参数\n",
    "    trainloss, testloss = full_procedure(net,epochs=3, bs=256\n",
    "                                         ,modelname=\"model_seletion_vgg\"\n",
    "                                         ,PATH = PATH)\n",
    "    avgtime.append(time()-start)"
   ]
  },
  {
   "cell_type": "code",
   "execution_count": 123,
   "id": "bd7be995",
   "metadata": {},
   "outputs": [
    {
     "name": "stdout",
     "output_type": "stream",
     "text": [
      "247.86623287200928\n"
     ]
    }
   ],
   "source": [
    "#打印出我们的平均时间\n",
    "print(np.mean(avgtime))"
   ]
  },
  {
   "cell_type": "code",
   "execution_count": null,
   "id": "042c5a6e",
   "metadata": {},
   "outputs": [],
   "source": [
    "# 用来进行垃圾回收的\n",
    "del net\n",
    "gc.collect()\n",
    "torch.cuda.empty_cache()"
   ]
  },
  {
   "cell_type": "markdown",
   "id": "ae1f48de",
   "metadata": {},
   "source": [
    "7.模型调优/参数调整\n",
    "--"
   ]
  },
  {
   "cell_type": "code",
   "execution_count": 124,
   "id": "93e7c466",
   "metadata": {},
   "outputs": [
    {
     "name": "stdout",
     "output_type": "stream",
     "text": [
      "myResNet_test0\n",
      "Epoch1:[32000/732570(4%)]\n",
      "Epoch1:[64000/732570(9%)]\n",
      "\t Train Loss:107.468686, Test Loss:33.113598, Train Acc:63.846%, Test Acc:90.523%\n",
      "Epoch2:[105257/732570(14%)]\n",
      "Epoch2:[137257/732570(19%)]\n",
      "\t Train Loss:27.886574, Test Loss:34.442679, Train Acc:91.639%, Test Acc:89.640%\n",
      "\t NOTICE: Early stopping counter 1 of 5\n",
      "Epoch3:[178514/732570(24%)]\n",
      "Epoch3:[210514/732570(29%)]\n",
      "\t Train Loss:22.022663, Test Loss:28.326829, Train Acc:93.573%, Test Acc:91.530%\n",
      "\t Weight Saved\n",
      "Epoch4:[251771/732570(34%)]\n",
      "Epoch4:[283771/732570(39%)]\n",
      "\t Train Loss:18.375715, Test Loss:22.212709, Train Acc:94.709%, Test Acc:93.662%\n",
      "\t Weight Saved\n",
      "Epoch5:[325028/732570(44%)]\n",
      "Epoch5:[357028/732570(49%)]\n",
      "\t Train Loss:15.966041, Test Loss:22.671575, Train Acc:95.471%, Test Acc:93.654%\n",
      "\t NOTICE: Early stopping counter 1 of 5\n",
      "Epoch6:[398285/732570(54%)]\n",
      "Epoch6:[430285/732570(59%)]\n",
      "\t Train Loss:13.533690, Test Loss:24.814526, Train Acc:96.258%, Test Acc:92.578%\n",
      "\t NOTICE: Early stopping counter 2 of 5\n",
      "Epoch7:[471542/732570(64%)]\n",
      "Epoch7:[503542/732570(69%)]\n",
      "\t Train Loss:11.552906, Test Loss:18.227932, Train Acc:96.807%, Test Acc:94.949%\n",
      "\t Weight Saved\n",
      "Epoch8:[544799/732570(74%)]\n",
      "Epoch8:[576799/732570(79%)]\n",
      "\t Train Loss:9.304216, Test Loss:22.581397, Train Acc:97.402%, Test Acc:93.835%\n",
      "\t NOTICE: Early stopping counter 1 of 5\n",
      "Epoch9:[618056/732570(84%)]\n",
      "Epoch9:[650056/732570(89%)]\n",
      "\t Train Loss:7.471419, Test Loss:31.136066, Train Acc:97.909%, Test Acc:91.149%\n",
      "\t NOTICE: Early stopping counter 2 of 5\n",
      "Epoch10:[691313/732570(94%)]\n",
      "Epoch10:[723313/732570(99%)]\n",
      "\t Train Loss:6.069026, Test Loss:20.502552, Train Acc:98.246%, Test Acc:94.768%\n",
      "\t NOTICE: Early stopping counter 3 of 5\n",
      "Complete\n",
      "1075.5529913902283\n"
     ]
    },
    {
     "data": {
      "image/png": "[encoded data removed]",
      "text/plain": [
       "<Figure size 720x504 with 1 Axes>"
      ]
     },
     "metadata": {
      "needs_background": "light"
     },
     "output_type": "display_data"
    }
   ],
   "source": [
    "#尝试增加到10个epochs\n",
    "PATH = r\"D:\\deeplearning\\modelselect\"\n",
    "modelname = \"myResNet_test0\"\n",
    "\n",
    "print(modelname)\n",
    "torch.manual_seed(1412)\n",
    "resnet18_ = m.resnet18()\n",
    "net = MyResNet().to(device,non_blocking=True)\n",
    "start = time() #计算训练时间\n",
    "trainloss, testloss = full_procedure(net,epochs=10, bs=256\n",
    "                                     ,modelname=modelname\n",
    "                                     ,PATH = PATH)\n",
    "print(time()-start)\n",
    "plotloss(trainloss,testloss)"
   ]
  }
 ],
 "metadata": {
  "kernelspec": {
   "display_name": "Python 3 (ipykernel)",
   "language": "python",
   "name": "python3"
  },
  "language_info": {
   "codemirror_mode": {
    "name": "ipython",
    "version": 3
   },
   "file_extension": ".py",
   "mimetype": "text/x-python",
   "name": "python",
   "nbconvert_exporter": "python",
   "pygments_lexer": "ipython3",
   "version": "3.9.12"
  }
 },
 "nbformat": 4,
 "nbformat_minor": 5
}
